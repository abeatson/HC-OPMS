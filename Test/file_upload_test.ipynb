{
  "nbformat": 4,
  "nbformat_minor": 0,
  "metadata": {
    "colab": {
      "name": "file_upload_test_OPMS.ipynb",
      "version": "0.3.2",
      "provenance": [],
      "include_colab_link": true
    },
    "kernelspec": {
      "name": "python3",
      "display_name": "Python 3"
    }
  },
  "cells": [
    {
      "cell_type": "markdown",
      "metadata": {
        "id": "view-in-github",
        "colab_type": "text"
      },
      "source": [
        "<a href=\"https://colab.research.google.com/github/abeatson/HC-OPMS/blob/master/file_upload_test_.ipynb\" target=\"_parent\"><img src=\"https://colab.research.google.com/assets/colab-badge.svg\" alt=\"Open In Colab\"/></a>"
      ]
    },
    {
      "metadata": {
        "id": "gdmIxMNPIzYH",
        "colab_type": "text"
      },
      "cell_type": "markdown",
      "source": [
        "# Testing the Colab Workspace for use in OPMS"
      ]
    },
    {
      "metadata": {
        "id": "6xoRaH6_Iof2",
        "colab_type": "text"
      },
      "cell_type": "markdown",
      "source": [
        "This notebook is going to be used to begin applying some Python to data from the pharmaceutical space."
      ]
    },
    {
      "metadata": {
        "id": "N4ClFUNfImLl",
        "colab_type": "code",
        "colab": {}
      },
      "cell_type": "code",
      "source": [
        "import pandas as pd"
      ],
      "execution_count": 0,
      "outputs": []
    },
    {
      "metadata": {
        "id": "CuXVIJAsIb4P",
        "colab_type": "text"
      },
      "cell_type": "markdown",
      "source": [
        "Uploading the data to the Google notebook.\n"
      ]
    },
    {
      "metadata": {
        "id": "Xx32L0WoHnro",
        "colab_type": "code",
        "outputId": "6b3cc621-397a-44b2-f4f3-530ff3cfcd5a",
        "colab": {
          "resources": {
            "http://localhost:8080/nbextensions/google.colab/files.js": {
              "data": "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",
              "ok": true,
              "headers": [
                [
                  "content-type",
                  "application/javascript"
                ]
              ],
              "status": 200,
              "status_text": ""
            }
          },
          "base_uri": "https://localhost:8080/",
          "height": 72
        }
      },
      "cell_type": "code",
      "source": [
        "from google.colab import files\n",
        "uploaded = files.upload()"
      ],
      "execution_count": 0,
      "outputs": [
        {
          "output_type": "display_data",
          "data": {
            "text/html": [
              "\n",
              "     <input type=\"file\" id=\"files-bd80e495-f070-46fc-8a42-f1398a0878ac\" name=\"files[]\" multiple disabled />\n",
              "     <output id=\"result-bd80e495-f070-46fc-8a42-f1398a0878ac\">\n",
              "      Upload widget is only available when the cell has been executed in the\n",
              "      current browser session. Please rerun this cell to enable.\n",
              "      </output>\n",
              "      <script src=\"/nbextensions/google.colab/files.js\"></script> "
            ],
            "text/plain": [
              "<IPython.core.display.HTML object>"
            ]
          },
          "metadata": {
            "tags": []
          }
        },
        {
          "output_type": "stream",
          "text": [
            "Saving Copy of NPDUIS_2018_092A DIN_List.csv to Copy of NPDUIS_2018_092A DIN_List (2).csv\n"
          ],
          "name": "stdout"
        }
      ]
    },
    {
      "metadata": {
        "id": "En12VmukIVS8",
        "colab_type": "text"
      },
      "cell_type": "markdown",
      "source": [
        "Now to load the data into a pandas dataframe.\n"
      ]
    },
    {
      "metadata": {
        "id": "hhCLsENpJDGi",
        "colab_type": "code",
        "outputId": "c28aaca4-b94c-486e-f8aa-47764847d7fb",
        "colab": {
          "base_uri": "https://localhost:8080/",
          "height": 824
        }
      },
      "cell_type": "code",
      "source": [
        "import io\n",
        "\n",
        "df = pd.read_csv(io.StringIO(uploaded['Copy of NPDUIS_2018_092A DIN_List.csv'].decode('utf-8')))\n",
        "\n",
        "df.head(25)\n",
        "# Data should now be stored as a Pandas dataframe."
      ],
      "execution_count": 0,
      "outputs": [
        {
          "output_type": "execute_result",
          "data": {
            "text/html": [
              "<div>\n",
              "<style scoped>\n",
              "    .dataframe tbody tr th:only-of-type {\n",
              "        vertical-align: middle;\n",
              "    }\n",
              "\n",
              "    .dataframe tbody tr th {\n",
              "        vertical-align: top;\n",
              "    }\n",
              "\n",
              "    .dataframe thead th {\n",
              "        text-align: right;\n",
              "    }\n",
              "</style>\n",
              "<table border=\"1\" class=\"dataframe\">\n",
              "  <thead>\n",
              "    <tr style=\"text-align: right;\">\n",
              "      <th></th>\n",
              "      <th>ATC_LEVEL_5_CODE</th>\n",
              "      <th>ATC_LEVEL_5_E_DESC</th>\n",
              "      <th>ATC_LEVEL_4_CODE</th>\n",
              "      <th>ATC_LEVEL_4_E_DESC</th>\n",
              "      <th>DIN_PDIN</th>\n",
              "      <th>BRAND_NAME_E_DESC</th>\n",
              "      <th>Unnamed: 6</th>\n",
              "      <th>Unnamed: 7</th>\n",
              "    </tr>\n",
              "  </thead>\n",
              "  <tbody>\n",
              "    <tr>\n",
              "      <th>0</th>\n",
              "      <td>L01AA01</td>\n",
              "      <td>CYCLOPHOSPHAMIDE</td>\n",
              "      <td>L01AA</td>\n",
              "      <td>Nitrogen mustard analogues</td>\n",
              "      <td>2241795.0</td>\n",
              "      <td>PROCYTOX 25mg tab</td>\n",
              "      <td>NaN</td>\n",
              "      <td>NaN</td>\n",
              "    </tr>\n",
              "    <tr>\n",
              "      <th>1</th>\n",
              "      <td>L01AA01</td>\n",
              "      <td>CYCLOPHOSPHAMIDE</td>\n",
              "      <td>L01AA</td>\n",
              "      <td>Nitrogen mustard analogues</td>\n",
              "      <td>2241796.0</td>\n",
              "      <td>PROCYTOX 50mg tab</td>\n",
              "      <td>NaN</td>\n",
              "      <td>NaN</td>\n",
              "    </tr>\n",
              "    <tr>\n",
              "      <th>2</th>\n",
              "      <td>L01AA01</td>\n",
              "      <td>CYCLOPHOSPHAMIDE</td>\n",
              "      <td>L01AA</td>\n",
              "      <td>Nitrogen mustard analogues</td>\n",
              "      <td>2241799.0</td>\n",
              "      <td>PROCYTOX VIAL 1000mg pdr sol</td>\n",
              "      <td>NaN</td>\n",
              "      <td>NaN</td>\n",
              "    </tr>\n",
              "    <tr>\n",
              "      <th>3</th>\n",
              "      <td>L01AA01</td>\n",
              "      <td>CYCLOPHOSPHAMIDE</td>\n",
              "      <td>L01AA</td>\n",
              "      <td>Nitrogen mustard analogues</td>\n",
              "      <td>2241800.0</td>\n",
              "      <td>PROCYTOX VIAL 2000mg pdr sol</td>\n",
              "      <td>NaN</td>\n",
              "      <td>NaN</td>\n",
              "    </tr>\n",
              "    <tr>\n",
              "      <th>4</th>\n",
              "      <td>L01AA01</td>\n",
              "      <td>CYCLOPHOSPHAMIDE</td>\n",
              "      <td>L01AA</td>\n",
              "      <td>Nitrogen mustard analogues</td>\n",
              "      <td>2241797.0</td>\n",
              "      <td>PROCYTOX VIAL 200mg pdr sol</td>\n",
              "      <td>NaN</td>\n",
              "      <td>NaN</td>\n",
              "    </tr>\n",
              "    <tr>\n",
              "      <th>5</th>\n",
              "      <td>L01AA01</td>\n",
              "      <td>CYCLOPHOSPHAMIDE</td>\n",
              "      <td>L01AA</td>\n",
              "      <td>Nitrogen mustard analogues</td>\n",
              "      <td>2241798.0</td>\n",
              "      <td>PROCYTOX VIAL 500mg pdr sol</td>\n",
              "      <td>NaN</td>\n",
              "      <td>NaN</td>\n",
              "    </tr>\n",
              "    <tr>\n",
              "      <th>6</th>\n",
              "      <td>L01AA02</td>\n",
              "      <td>CHLORAMBUCIL</td>\n",
              "      <td>L01AA</td>\n",
              "      <td>Nitrogen mustard analogues</td>\n",
              "      <td>4626.0</td>\n",
              "      <td>LEUKERAN 2mg tab</td>\n",
              "      <td>NaN</td>\n",
              "      <td>NaN</td>\n",
              "    </tr>\n",
              "    <tr>\n",
              "      <th>7</th>\n",
              "      <td>L01AA03</td>\n",
              "      <td>MELPHALAN</td>\n",
              "      <td>L01AA</td>\n",
              "      <td>Nitrogen mustard analogues</td>\n",
              "      <td>4715.0</td>\n",
              "      <td>ALKERAN 2mg tab</td>\n",
              "      <td>NaN</td>\n",
              "      <td>NaN</td>\n",
              "    </tr>\n",
              "    <tr>\n",
              "      <th>8</th>\n",
              "      <td>L01AA03</td>\n",
              "      <td>MELPHALAN</td>\n",
              "      <td>L01AA</td>\n",
              "      <td>Nitrogen mustard analogues</td>\n",
              "      <td>2087286.0</td>\n",
              "      <td>ALKERAN 50mg, 10mL kit</td>\n",
              "      <td>NaN</td>\n",
              "      <td>NaN</td>\n",
              "    </tr>\n",
              "    <tr>\n",
              "      <th>9</th>\n",
              "      <td>L01AA03</td>\n",
              "      <td>MELPHALAN</td>\n",
              "      <td>L01AA</td>\n",
              "      <td>Nitrogen mustard analogues</td>\n",
              "      <td>2468921.0</td>\n",
              "      <td>MELPHALAN FOR INJECTION 50mg, 10mL kit</td>\n",
              "      <td>NaN</td>\n",
              "      <td>NaN</td>\n",
              "    </tr>\n",
              "    <tr>\n",
              "      <th>10</th>\n",
              "      <td>L01AA03</td>\n",
              "      <td>MELPHALAN</td>\n",
              "      <td>L01AA</td>\n",
              "      <td>Nitrogen mustard analogues</td>\n",
              "      <td>2473348.0</td>\n",
              "      <td>MELPHALAN FOR INJECTION 50mg, 10mL kit</td>\n",
              "      <td>NaN</td>\n",
              "      <td>NaN</td>\n",
              "    </tr>\n",
              "    <tr>\n",
              "      <th>11</th>\n",
              "      <td>L01AA06</td>\n",
              "      <td>IFOSFAMIDE</td>\n",
              "      <td>L01AA</td>\n",
              "      <td>Nitrogen mustard analogues</td>\n",
              "      <td>2241357.0</td>\n",
              "      <td>IFEX IFOSFAMIDE VIAL 1g pdr sol</td>\n",
              "      <td>NaN</td>\n",
              "      <td>NaN</td>\n",
              "    </tr>\n",
              "    <tr>\n",
              "      <th>12</th>\n",
              "      <td>L01AA06</td>\n",
              "      <td>IFOSFAMIDE</td>\n",
              "      <td>L01AA</td>\n",
              "      <td>Nitrogen mustard analogues</td>\n",
              "      <td>2241356.0</td>\n",
              "      <td>IFEX IFOSFAMIDE VIAL 3g pdr sol</td>\n",
              "      <td>NaN</td>\n",
              "      <td>NaN</td>\n",
              "    </tr>\n",
              "    <tr>\n",
              "      <th>13</th>\n",
              "      <td>L01AA06</td>\n",
              "      <td>IFOSFAMIDE</td>\n",
              "      <td>L01AA</td>\n",
              "      <td>Nitrogen mustard analogues</td>\n",
              "      <td>2246565.0</td>\n",
              "      <td>IFOSFAMIDE FOR INJECTION 1g pdr sol</td>\n",
              "      <td>NaN</td>\n",
              "      <td>NaN</td>\n",
              "    </tr>\n",
              "    <tr>\n",
              "      <th>14</th>\n",
              "      <td>L01AA09</td>\n",
              "      <td>BENDAMUSTINE</td>\n",
              "      <td>L01AA</td>\n",
              "      <td>Nitrogen mustard analogues</td>\n",
              "      <td>2392569.0</td>\n",
              "      <td>TREANDA 100mg pdr sol</td>\n",
              "      <td>NaN</td>\n",
              "      <td>NaN</td>\n",
              "    </tr>\n",
              "    <tr>\n",
              "      <th>15</th>\n",
              "      <td>L01AA09</td>\n",
              "      <td>BENDAMUSTINE</td>\n",
              "      <td>L01AA</td>\n",
              "      <td>Nitrogen mustard analogues</td>\n",
              "      <td>2392550.0</td>\n",
              "      <td>TREANDA 25mg pdr sol</td>\n",
              "      <td>NaN</td>\n",
              "      <td>NaN</td>\n",
              "    </tr>\n",
              "    <tr>\n",
              "      <th>16</th>\n",
              "      <td>L01AB01</td>\n",
              "      <td>BUSULFAN</td>\n",
              "      <td>L01AB</td>\n",
              "      <td>Alkyl sulfonates</td>\n",
              "      <td>2463733.0</td>\n",
              "      <td>BUSULFAN FOR INJECTION 60mg/10mL sol</td>\n",
              "      <td>NaN</td>\n",
              "      <td>NaN</td>\n",
              "    </tr>\n",
              "    <tr>\n",
              "      <th>17</th>\n",
              "      <td>L01AB01</td>\n",
              "      <td>BUSULFAN</td>\n",
              "      <td>L01AB</td>\n",
              "      <td>Alkyl sulfonates</td>\n",
              "      <td>2240602.0</td>\n",
              "      <td>BUSULFEX 60mg/10mL sol</td>\n",
              "      <td>NaN</td>\n",
              "      <td>NaN</td>\n",
              "    </tr>\n",
              "    <tr>\n",
              "      <th>18</th>\n",
              "      <td>L01AB01</td>\n",
              "      <td>BUSULFAN</td>\n",
              "      <td>L01AB</td>\n",
              "      <td>Alkyl sulfonates</td>\n",
              "      <td>4618.0</td>\n",
              "      <td>MYLERAN 2mg tab</td>\n",
              "      <td>NaN</td>\n",
              "      <td>NaN</td>\n",
              "    </tr>\n",
              "    <tr>\n",
              "      <th>19</th>\n",
              "      <td>L01AC01</td>\n",
              "      <td>THIOTEPA</td>\n",
              "      <td>L01AC</td>\n",
              "      <td>Ethylene imines</td>\n",
              "      <td>2462702.0</td>\n",
              "      <td>TEPADINA 100mg pdr sol</td>\n",
              "      <td>NaN</td>\n",
              "      <td>NaN</td>\n",
              "    </tr>\n",
              "    <tr>\n",
              "      <th>20</th>\n",
              "      <td>L01AC01</td>\n",
              "      <td>THIOTEPA</td>\n",
              "      <td>L01AC</td>\n",
              "      <td>Ethylene imines</td>\n",
              "      <td>2462680.0</td>\n",
              "      <td>TEPADINA 15mg pdr sol</td>\n",
              "      <td>NaN</td>\n",
              "      <td>NaN</td>\n",
              "    </tr>\n",
              "    <tr>\n",
              "      <th>21</th>\n",
              "      <td>L01AD01</td>\n",
              "      <td>CARMUSTINE</td>\n",
              "      <td>L01AD</td>\n",
              "      <td>Nitrosoureas</td>\n",
              "      <td>297763.0</td>\n",
              "      <td>BICNU 100mg pdr sol</td>\n",
              "      <td>NaN</td>\n",
              "      <td>NaN</td>\n",
              "    </tr>\n",
              "    <tr>\n",
              "      <th>22</th>\n",
              "      <td>L01AD01</td>\n",
              "      <td>CARMUSTINE</td>\n",
              "      <td>L01AD</td>\n",
              "      <td>Nitrosoureas</td>\n",
              "      <td>2238985.0</td>\n",
              "      <td>GLIADEL 7.7mg wafer</td>\n",
              "      <td>NaN</td>\n",
              "      <td>NaN</td>\n",
              "    </tr>\n",
              "    <tr>\n",
              "      <th>23</th>\n",
              "      <td>L01AD02</td>\n",
              "      <td>LOMUSTINE</td>\n",
              "      <td>L01AD</td>\n",
              "      <td>Nitrosoureas</td>\n",
              "      <td>360414.0</td>\n",
              "      <td>CEENU 100mg cap</td>\n",
              "      <td>NaN</td>\n",
              "      <td>NaN</td>\n",
              "    </tr>\n",
              "    <tr>\n",
              "      <th>24</th>\n",
              "      <td>L01AD02</td>\n",
              "      <td>LOMUSTINE</td>\n",
              "      <td>L01AD</td>\n",
              "      <td>Nitrosoureas</td>\n",
              "      <td>360430.0</td>\n",
              "      <td>CEENU 10mg cap</td>\n",
              "      <td>NaN</td>\n",
              "      <td>NaN</td>\n",
              "    </tr>\n",
              "  </tbody>\n",
              "</table>\n",
              "</div>"
            ],
            "text/plain": [
              "   ATC_LEVEL_5_CODE ATC_LEVEL_5_E_DESC ATC_LEVEL_4_CODE  \\\n",
              "0           L01AA01   CYCLOPHOSPHAMIDE            L01AA   \n",
              "1           L01AA01   CYCLOPHOSPHAMIDE            L01AA   \n",
              "2           L01AA01   CYCLOPHOSPHAMIDE            L01AA   \n",
              "3           L01AA01   CYCLOPHOSPHAMIDE            L01AA   \n",
              "4           L01AA01   CYCLOPHOSPHAMIDE            L01AA   \n",
              "5           L01AA01   CYCLOPHOSPHAMIDE            L01AA   \n",
              "6           L01AA02       CHLORAMBUCIL            L01AA   \n",
              "7           L01AA03          MELPHALAN            L01AA   \n",
              "8           L01AA03          MELPHALAN            L01AA   \n",
              "9           L01AA03          MELPHALAN            L01AA   \n",
              "10          L01AA03          MELPHALAN            L01AA   \n",
              "11          L01AA06         IFOSFAMIDE            L01AA   \n",
              "12          L01AA06         IFOSFAMIDE            L01AA   \n",
              "13          L01AA06         IFOSFAMIDE            L01AA   \n",
              "14          L01AA09       BENDAMUSTINE            L01AA   \n",
              "15          L01AA09       BENDAMUSTINE            L01AA   \n",
              "16          L01AB01           BUSULFAN            L01AB   \n",
              "17          L01AB01           BUSULFAN            L01AB   \n",
              "18          L01AB01           BUSULFAN            L01AB   \n",
              "19          L01AC01           THIOTEPA            L01AC   \n",
              "20          L01AC01           THIOTEPA            L01AC   \n",
              "21          L01AD01         CARMUSTINE            L01AD   \n",
              "22          L01AD01         CARMUSTINE            L01AD   \n",
              "23          L01AD02          LOMUSTINE            L01AD   \n",
              "24          L01AD02          LOMUSTINE            L01AD   \n",
              "\n",
              "            ATC_LEVEL_4_E_DESC   DIN_PDIN  \\\n",
              "0   Nitrogen mustard analogues  2241795.0   \n",
              "1   Nitrogen mustard analogues  2241796.0   \n",
              "2   Nitrogen mustard analogues  2241799.0   \n",
              "3   Nitrogen mustard analogues  2241800.0   \n",
              "4   Nitrogen mustard analogues  2241797.0   \n",
              "5   Nitrogen mustard analogues  2241798.0   \n",
              "6   Nitrogen mustard analogues     4626.0   \n",
              "7   Nitrogen mustard analogues     4715.0   \n",
              "8   Nitrogen mustard analogues  2087286.0   \n",
              "9   Nitrogen mustard analogues  2468921.0   \n",
              "10  Nitrogen mustard analogues  2473348.0   \n",
              "11  Nitrogen mustard analogues  2241357.0   \n",
              "12  Nitrogen mustard analogues  2241356.0   \n",
              "13  Nitrogen mustard analogues  2246565.0   \n",
              "14  Nitrogen mustard analogues  2392569.0   \n",
              "15  Nitrogen mustard analogues  2392550.0   \n",
              "16            Alkyl sulfonates  2463733.0   \n",
              "17            Alkyl sulfonates  2240602.0   \n",
              "18            Alkyl sulfonates     4618.0   \n",
              "19             Ethylene imines  2462702.0   \n",
              "20             Ethylene imines  2462680.0   \n",
              "21                Nitrosoureas   297763.0   \n",
              "22                Nitrosoureas  2238985.0   \n",
              "23                Nitrosoureas   360414.0   \n",
              "24                Nitrosoureas   360430.0   \n",
              "\n",
              "                         BRAND_NAME_E_DESC  Unnamed: 6  Unnamed: 7  \n",
              "0                        PROCYTOX 25mg tab         NaN         NaN  \n",
              "1                        PROCYTOX 50mg tab         NaN         NaN  \n",
              "2             PROCYTOX VIAL 1000mg pdr sol         NaN         NaN  \n",
              "3             PROCYTOX VIAL 2000mg pdr sol         NaN         NaN  \n",
              "4              PROCYTOX VIAL 200mg pdr sol         NaN         NaN  \n",
              "5              PROCYTOX VIAL 500mg pdr sol         NaN         NaN  \n",
              "6                         LEUKERAN 2mg tab         NaN         NaN  \n",
              "7                          ALKERAN 2mg tab         NaN         NaN  \n",
              "8                   ALKERAN 50mg, 10mL kit         NaN         NaN  \n",
              "9   MELPHALAN FOR INJECTION 50mg, 10mL kit         NaN         NaN  \n",
              "10  MELPHALAN FOR INJECTION 50mg, 10mL kit         NaN         NaN  \n",
              "11         IFEX IFOSFAMIDE VIAL 1g pdr sol         NaN         NaN  \n",
              "12         IFEX IFOSFAMIDE VIAL 3g pdr sol         NaN         NaN  \n",
              "13     IFOSFAMIDE FOR INJECTION 1g pdr sol         NaN         NaN  \n",
              "14                   TREANDA 100mg pdr sol         NaN         NaN  \n",
              "15                    TREANDA 25mg pdr sol         NaN         NaN  \n",
              "16    BUSULFAN FOR INJECTION 60mg/10mL sol         NaN         NaN  \n",
              "17                  BUSULFEX 60mg/10mL sol         NaN         NaN  \n",
              "18                         MYLERAN 2mg tab         NaN         NaN  \n",
              "19                  TEPADINA 100mg pdr sol         NaN         NaN  \n",
              "20                   TEPADINA 15mg pdr sol         NaN         NaN  \n",
              "21                     BICNU 100mg pdr sol         NaN         NaN  \n",
              "22                     GLIADEL 7.7mg wafer         NaN         NaN  \n",
              "23                         CEENU 100mg cap         NaN         NaN  \n",
              "24                          CEENU 10mg cap         NaN         NaN  "
            ]
          },
          "metadata": {
            "tags": []
          },
          "execution_count": 22
        }
      ]
    },
    {
      "metadata": {
        "id": "qFDtrX16LiOc",
        "colab_type": "text"
      },
      "cell_type": "markdown",
      "source": [
        "Now that the data has been uploaded, time to try some intial calculations and summaries based on this morning's tutorial."
      ]
    },
    {
      "metadata": {
        "id": "o6blTGSeMEPu",
        "colab_type": "code",
        "outputId": "2ee41abb-d852-462b-fada-0ee0fb73a676",
        "colab": {
          "base_uri": "https://localhost:8080/",
          "height": 884
        }
      },
      "cell_type": "code",
      "source": [
        "df[\"ATC_LEVEL_5_E_DESC\"].value_counts().head(50)"
      ],
      "execution_count": 0,
      "outputs": [
        {
          "output_type": "execute_result",
          "data": {
            "text/plain": [
              "METHOTREXATE                           27\n",
              "MYCOPHENOLIC ACID                      25\n",
              "ANASTROZOLE                            23\n",
              "LETROZOLE                              22\n",
              "TEMOZOLOMIDE                           22\n",
              "GEMCITABINE                            20\n",
              "LEFLUNOMIDE                            17\n",
              "BICALUTAMIDE                           17\n",
              "PEGINTERFERON ALFA-2B, COMBINATIONS    13\n",
              "DOXORUBICIN                            12\n",
              "CYTARABINE                             12\n",
              "TAMOXIFEN                              11\n",
              "ERLOTINIB                              11\n",
              "TACROLIMUS                             11\n",
              "TOPOTECAN                              10\n",
              "LEUPRORELIN                            10\n",
              "IMATINIB                               10\n",
              "OXALIPLATIN                            10\n",
              "CAPECITABINE                           10\n",
              "CICLOSPORIN                            10\n",
              "IRINOTECAN                              9\n",
              "PEMETREXED                              8\n",
              "DOCETAXEL                               8\n",
              "EVEROLIMUS                              7\n",
              "AZATHIOPRINE                            7\n",
              "ETANERCEPT                              7\n",
              "FLUTAMIDE                               7\n",
              "PACLITAXEL                              7\n",
              "INTERFERON ALFA-2B                      7\n",
              "INTERFERON BETA-1A                      7\n",
              "EPIRUBICIN                              6\n",
              "DASATINIB                               6\n",
              "CYCLOPHOSPHAMIDE                        6\n",
              "LENVATINIB                              6\n",
              "ETOPOSIDE                               6\n",
              "LENALIDOMIDE                            6\n",
              "FILGRASTIM                              5\n",
              "IDARUBICIN                              5\n",
              "CISPLATIN                               5\n",
              "GOLIMUMAB                               5\n",
              "ANAGRELIDE                              5\n",
              "MITOMYCIN                               5\n",
              "BORTEZOMIB                              5\n",
              "EXEMESTANE                              5\n",
              "FLUOROURACIL                            4\n",
              "SARILUMAB                               4\n",
              "VENETOCLAX                              4\n",
              "BRIGATINIB                              4\n",
              "MELPHALAN                               4\n",
              "HYDROXYCARBAMIDE                        4\n",
              "Name: ATC_LEVEL_5_E_DESC, dtype: int64"
            ]
          },
          "metadata": {
            "tags": []
          },
          "execution_count": 27
        }
      ]
    },
    {
      "metadata": {
        "id": "-IEJ8SuyMXf7",
        "colab_type": "text"
      },
      "cell_type": "markdown",
      "source": [
        "Some visualizing of the Top 10."
      ]
    },
    {
      "metadata": {
        "id": "PHa1BjbAMcTb",
        "colab_type": "code",
        "outputId": "9edf8ca7-f1aa-498b-e350-d9a98bb4d5d4",
        "colab": {
          "base_uri": "https://localhost:8080/",
          "height": 525
        }
      },
      "cell_type": "code",
      "source": [
        "df['ATC_LEVEL_4_E_DESC'].value_counts().head(10).plot.bar(color=\"black\")"
      ],
      "execution_count": 0,
      "outputs": [
        {
          "output_type": "execute_result",
          "data": {
            "text/plain": [
              "<matplotlib.axes._subplots.AxesSubplot at 0x7f1259af3198>"
            ]
          },
          "metadata": {
            "tags": []
          },
          "execution_count": 24
        },
        {
          "output_type": "display_data",
          "data": {
            "image/png": "[encoded data removed]",
            "text/plain": [
              "<matplotlib.figure.Figure at 0x7f1259add6d8>"
            ]
          },
          "metadata": {
            "tags": []
          }
        }
      ]
    }
  ]
}
